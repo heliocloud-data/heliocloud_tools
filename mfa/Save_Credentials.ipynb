{
 "cells": [
  {
   "cell_type": "code",
   "execution_count": 9,
   "id": "8ce63563-ad49-4f6b-9b45-29c46ad0c357",
   "metadata": {},
   "outputs": [
    {
     "name": "stdin",
     "output_type": "stream",
     "text": [
      "Paste AWS access key here: test3\n",
      "Paste AWS secret key here: testsecret3\n"
     ]
    },
    {
     "name": "stdout",
     "output_type": "stream",
     "text": [
      "~/.aws/credentials updated with new [default] credentials.\n"
     ]
    }
   ],
   "source": [
    "# simple tool to update .aws/credentials with user-prompted keys\n",
    "import time\n",
    "import os\n",
    "\n",
    "home=os.path.expanduser('~')\n",
    "with open(f\"{home}/.aws/credentials\",\"r\") as fin:\n",
    "    lines=fin.readlines()\n",
    "\n",
    "key=input(\"Paste AWS access key here:\")\n",
    "secret=input(\"Paste AWS secret key here:\")\n",
    "\n",
    "with open(f\"{home}/.aws/credentials\",\"w\") as fout:\n",
    "    date=time.time()\n",
    "    fout.write(f\"[default]\\naws_access_key_id={key}\\naws_secret_access_key={secret}\\n\\n\")\n",
    "    for line in lines:\n",
    "        if line.startswith(\"[default]\"):\n",
    "            line = f\"[prior-{date}]\\n\"\n",
    "        fout.write(line)\n",
    "print(\"~/.aws/credentials updated with new [default] credentials.\")"
   ]
  },
  {
   "cell_type": "code",
   "execution_count": null,
   "id": "68aca362-3ae4-42e7-b2d5-cda9dbb12a17",
   "metadata": {},
   "outputs": [],
   "source": []
  }
 ],
 "metadata": {
  "kernelspec": {
   "display_name": "Python 3 (ipykernel)",
   "language": "python",
   "name": "python3"
  },
  "language_info": {
   "codemirror_mode": {
    "name": "ipython",
    "version": 3
   },
   "file_extension": ".py",
   "mimetype": "text/x-python",
   "name": "python",
   "nbconvert_exporter": "python",
   "pygments_lexer": "ipython3",
   "version": "3.10.8"
  }
 },
 "nbformat": 4,
 "nbformat_minor": 5
}
