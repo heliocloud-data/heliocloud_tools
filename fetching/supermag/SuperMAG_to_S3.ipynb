{
 "cells": [
  {
   "cell_type": "markdown",
   "id": "8af6ec23-3ca6-44d3-a19c-f458036c1a6a",
   "metadata": {
    "tags": []
   },
   "source": [
    "# Copying SuperMAG to S3\n",
    "\n",
    "Copies locally stored files to S3, and logs into a database for tracking purposes.\n",
    "\n",
    "* Reads MANIFEST.csv to get filenames and any metadata\n",
    "    * filenames can include subdirectories. Are presumed to be in local directory LOCALDIR\n",
    "* Writes final files to location defined by 'S3DIR' and updates DB fields \"s3key\" to point to new location, \"metadata\" to contain all metadata (for later parsing)\n",
    "\n",
    "Database is sqlite3, named 'Supermag_log.db', contains fields 'filename' (original Supermag filename), 's3key', 'status' (0=not yet copied over, 1 = successfully copied over), 'metadata' (direct copy of original MANIFEST.csv line in its entirely, for later processing into the index)\n",
    "\n",
    "TEST = True case copies 10 files to TEST_S3DIR\n",
    "\n",
    "INGEST = True reads the MANIFEST.csv into the database (is safe, won't overwrite processed files)."
   ]
  },
  {
   "cell_type": "code",
   "execution_count": 4,
   "id": "9e2660e6-b444-4f05-b491-6fcb9f38342f",
   "metadata": {
    "tags": []
   },
   "outputs": [],
   "source": [
    "import sqlite3\n",
    "import re\n",
    "import time\n",
    "import itertools\n",
    "import boto3\n",
    "import os.path\n",
    "from botocore.exceptions import ClientError\n",
    "from multiprocessing.pool import ThreadPool\n",
    "import multiprocessing\n",
    "#import multiprocessing_logging\n",
    "import warnings\n",
    "\n",
    "dbname = \"Supermag_log.db\"\n",
    "LOCALDIR = \".\"\n",
    "S3DIR = \"gov-nasa-hdrl-data1/contributed/supermag/\"\n",
    "INGEST = True # initial population of database from manifest\n",
    "TEST = True\n",
    "if TEST:\n",
    "    S3DIR = \"helio-public/skantunes/supermag-test/\""
   ]
  },
  {
   "cell_type": "code",
   "execution_count": 27,
   "id": "d2c91c01-54d1-416f-99e0-8ef13614f27b",
   "metadata": {},
   "outputs": [],
   "source": [
    "def ingest_filelist(manifest='MANIFEST.csv'):\n",
    "    # supermag-defined way of getting list of files to copy and register, likely MANIFEST.csv\n",
    "    # format  filename, multiple_optional_metadata\n",
    "    with open(manifest,'r') as fin:\n",
    "        for line in fin:\n",
    "            filename = line.split(',')[0]\n",
    "            insertDB_meta(filename,meta)\n",
    "        conn.commit()"
   ]
  },
  {
   "cell_type": "code",
   "execution_count": 6,
   "id": "5f7f8bdc-3559-468e-b581-2799c0a3e112",
   "metadata": {},
   "outputs": [],
   "source": [
    "def testcred(input):\n",
    "    import cred\n",
    "    credentials=cred.altcred()\n",
    "    print(\"cred test: \",input,credentials)\n",
    "    retval = (credentials.access_key,\"test\")\n",
    "    return retval"
   ]
  },
  {
   "cell_type": "code",
   "execution_count": 7,
   "id": "3bcdc374-922f-4e8a-a96e-063dcf44da6a",
   "metadata": {},
   "outputs": [],
   "source": [
    "def generate_s3key(s3dir, filename):\n",
    "    bucket = s3dir.split('/')[0]\n",
    "    oname = '/'.join(s3dir.split('/')[1:]) + filename\n",
    "    s3key = \"s3://\" + s3dir + filename\n",
    "    return s3key, bucket, oname"
   ]
  },
  {
   "cell_type": "code",
   "execution_count": 8,
   "id": "6dfd1475-b820-4f7c-b934-fdfb2ecb9913",
   "metadata": {},
   "outputs": [],
   "source": [
    "def dbget_filelist(status=0):\n",
    "    state_fetch = f\"SELECT filename from supermag where status={status}\"\n",
    "    rows=cursor.execute(state_fetch).fetchall()\n",
    "    return rows"
   ]
  },
  {
   "cell_type": "code",
   "execution_count": 9,
   "id": "5bcc395a-a66d-4eb2-9713-535a76e52764",
   "metadata": {},
   "outputs": [],
   "source": [
    "def lookup_db(dbname, key, keyval):\n",
    "    state_fetch = f\"SELECT * from supermag where {key}='{keyval}'\"\n",
    "    rows=cursor.execute(state_fetch).fetchall()\n",
    "    return rows"
   ]
  },
  {
   "cell_type": "code",
   "execution_count": 26,
   "id": "307a987c-0f75-493b-acaa-c346f1501449",
   "metadata": {},
   "outputs": [],
   "source": [
    "def insertDB_meta(filename, meta):\n",
    "    state_change = f\"INSERT OR IGNORE INTO supermag (filename,metadata,status) VALUES ('{filename}','{meta}',0);\"\n",
    "    cursor.execute(state_change)"
   ]
  },
  {
   "cell_type": "code",
   "execution_count": 11,
   "id": "d950a87b-5474-4d8f-ace2-da1020b87863",
   "metadata": {},
   "outputs": [],
   "source": [
    "def updateDB_s3key(filename, s3key):\n",
    "    state_change = f\"UPDATE supermag set s3key='{s3key}', status = 1 WHERE filename='{filename}'\"\n",
    "    cursor.execute(state_change)"
   ]
  },
  {
   "cell_type": "code",
   "execution_count": 12,
   "id": "a726cda4-1e60-4664-a722-0823a89e3394",
   "metadata": {},
   "outputs": [
    {
     "name": "stdout",
     "output_type": "stream",
     "text": [
      "Number of s3keys (files):  0\n"
     ]
    },
    {
     "data": {
      "text/plain": [
       "0"
      ]
     },
     "execution_count": 12,
     "metadata": {},
     "output_type": "execute_result"
    }
   ],
   "source": [
    "def countdb():\n",
    "    query = \"SELECT COUNT(s3key) from supermag\"\n",
    "    rows = cursor.execute(query).fetchall()\n",
    "    print(\"Number of s3keys (files): \",rows[0][0])\n",
    "    return rows[0][0]"
   ]
  },
  {
   "cell_type": "code",
   "execution_count": 13,
   "id": "86af339d-5157-4ebd-8c7a-26ab50be738a",
   "metadata": {},
   "outputs": [],
   "source": [
    "def copy_local_to_s3(filename, s3dir=S3DIR, localdir=LOCALDIR, profile=None):\n",
    "    s3key, bucket, oname = generate_s3key(s3dir, filename)\n",
    "    print(f\"bucket:{bucket}, oname:{oname}, full s3key: {s3key}\")\n",
    "    status = False\n",
    "    #s3_client = boto3.client('s3',aws_access_key_id=credentials.access_key,aws_secret_access_key=credentials.secret_key,aws_session_token=credentials.token)\n",
    "    s3_client = boto3.client('s3')\n",
    "    try:\n",
    "        response = s3_client.upload_file(LOCALDIR+'/'+filename, bucket, oname)\n",
    "        return (filename, s3key)\n",
    "    except ClientError as e:\n",
    "        print(\"Failed to copy to S3:\",s3key,e)\n",
    "        return None\n",
    "    except:\n",
    "        print(\"Failed to copy to S3:\",s3key)\n",
    "        return None"
   ]
  },
  {
   "cell_type": "code",
   "execution_count": 28,
   "id": "3695cd90-8999-450f-951a-9010112b1338",
   "metadata": {},
   "outputs": [
    {
     "ename": "FileNotFoundError",
     "evalue": "[Errno 2] No such file or directory: 'MANIFEST.csv'",
     "output_type": "error",
     "traceback": [
      "\u001b[0;31m---------------------------------------------------------------------------\u001b[0m",
      "\u001b[0;31mFileNotFoundError\u001b[0m                         Traceback (most recent call last)",
      "\u001b[0;32m/tmp/ipykernel_648/2344842685.py\u001b[0m in \u001b[0;36m<module>\u001b[0;34m\u001b[0m\n\u001b[1;32m      3\u001b[0m \u001b[0mcreate\u001b[0m \u001b[0;34m=\u001b[0m \u001b[0;34m\"CREATE TABLE IF NOT EXISTS supermag (filename TEXT PRIMARY KEY, s3key text, metadata TEXT, status INT);\"\u001b[0m\u001b[0;34m\u001b[0m\u001b[0;34m\u001b[0m\u001b[0m\n\u001b[1;32m      4\u001b[0m \u001b[0mcursor\u001b[0m\u001b[0;34m.\u001b[0m\u001b[0mexecute\u001b[0m\u001b[0;34m(\u001b[0m\u001b[0mcreate\u001b[0m\u001b[0;34m)\u001b[0m\u001b[0;34m\u001b[0m\u001b[0;34m\u001b[0m\u001b[0m\n\u001b[0;32m----> 5\u001b[0;31m \u001b[0;32mif\u001b[0m \u001b[0mINGEST\u001b[0m\u001b[0;34m:\u001b[0m \u001b[0mingest_filelist\u001b[0m\u001b[0;34m(\u001b[0m\u001b[0;34m)\u001b[0m\u001b[0;34m\u001b[0m\u001b[0;34m\u001b[0m\u001b[0m\n\u001b[0m",
      "\u001b[0;32m/tmp/ipykernel_648/4219607709.py\u001b[0m in \u001b[0;36mingest_filelist\u001b[0;34m(manifest)\u001b[0m\n\u001b[1;32m      2\u001b[0m     \u001b[0;31m# supermag-defined way of getting list of files to copy and register, likely MANIFEST.csv\u001b[0m\u001b[0;34m\u001b[0m\u001b[0;34m\u001b[0m\u001b[0m\n\u001b[1;32m      3\u001b[0m     \u001b[0;31m# format  filename, multiple_optional_metadata\u001b[0m\u001b[0;34m\u001b[0m\u001b[0;34m\u001b[0m\u001b[0m\n\u001b[0;32m----> 4\u001b[0;31m     \u001b[0;32mwith\u001b[0m \u001b[0mopen\u001b[0m\u001b[0;34m(\u001b[0m\u001b[0mmanifest\u001b[0m\u001b[0;34m,\u001b[0m\u001b[0;34m'r'\u001b[0m\u001b[0;34m)\u001b[0m \u001b[0;32mas\u001b[0m \u001b[0mfin\u001b[0m\u001b[0;34m:\u001b[0m\u001b[0;34m\u001b[0m\u001b[0;34m\u001b[0m\u001b[0m\n\u001b[0m\u001b[1;32m      5\u001b[0m         \u001b[0;32mfor\u001b[0m \u001b[0mline\u001b[0m \u001b[0;32min\u001b[0m \u001b[0mfin\u001b[0m\u001b[0;34m:\u001b[0m\u001b[0;34m\u001b[0m\u001b[0;34m\u001b[0m\u001b[0m\n\u001b[1;32m      6\u001b[0m             \u001b[0mfilename\u001b[0m \u001b[0;34m=\u001b[0m \u001b[0mline\u001b[0m\u001b[0;34m.\u001b[0m\u001b[0msplit\u001b[0m\u001b[0;34m(\u001b[0m\u001b[0;34m','\u001b[0m\u001b[0;34m)\u001b[0m\u001b[0;34m[\u001b[0m\u001b[0;36m0\u001b[0m\u001b[0;34m]\u001b[0m\u001b[0;34m\u001b[0m\u001b[0;34m\u001b[0m\u001b[0m\n",
      "\u001b[0;31mFileNotFoundError\u001b[0m: [Errno 2] No such file or directory: 'MANIFEST.csv'"
     ]
    }
   ],
   "source": [
    "conn = sqlite3.connect(dbname) #, isolation_level=None)\n",
    "cursor = conn.cursor()\n",
    "create = \"CREATE TABLE IF NOT EXISTS supermag (filename TEXT PRIMARY KEY, s3key text, metadata TEXT, status INT);\"\n",
    "cursor.execute(create)\n",
    "if INGEST: ingest_filelist()"
   ]
  },
  {
   "cell_type": "code",
   "execution_count": 17,
   "id": "45c4cb05-39e1-4f85-9953-0c41a7a6c6fc",
   "metadata": {},
   "outputs": [
    {
     "name": "stdout",
     "output_type": "stream",
     "text": [
      "bucket:helio-public, oname:skantunes/supermag-test/test_anim.gif, full s3key: s3://helio-public/skantunes/supermag-test/test_anim.gif\n",
      "Failed to copy to S3: s3://helio-public/skantunes/supermag-test/test_anim.gif\n",
      "Number of s3keys (files):  0\n"
     ]
    }
   ],
   "source": [
    "if TEST:\n",
    "    filename=\"test_anim.gif\"\n",
    "    pair = copy_local_to_s3(filename)\n",
    "    if pair != None: updateDB(pair[0], pair[1])\n",
    "    countdb()"
   ]
  },
  {
   "cell_type": "code",
   "execution_count": 19,
   "id": "3610cd28-6c8a-4d02-b1b3-1070c02c87ec",
   "metadata": {},
   "outputs": [
    {
     "name": "stdout",
     "output_type": "stream",
     "text": [
      "Number of s3keys (files):  0\n",
      "Number of CPU cores available:  16\n",
      "Number of s3keys (files):  0\n"
     ]
    },
    {
     "ename": "ZeroDivisionError",
     "evalue": "float division by zero",
     "output_type": "error",
     "traceback": [
      "\u001b[0;31m---------------------------------------------------------------------------\u001b[0m",
      "\u001b[0;31mZeroDivisionError\u001b[0m                         Traceback (most recent call last)",
      "\u001b[0;32m/tmp/ipykernel_648/1521163258.py\u001b[0m in \u001b[0;36m<module>\u001b[0;34m\u001b[0m\n\u001b[1;32m     20\u001b[0m \u001b[0;34m\u001b[0m\u001b[0m\n\u001b[1;32m     21\u001b[0m \u001b[0mendingcount\u001b[0m \u001b[0;34m=\u001b[0m \u001b[0mcountdb\u001b[0m\u001b[0;34m(\u001b[0m\u001b[0;34m)\u001b[0m\u001b[0;34m\u001b[0m\u001b[0;34m\u001b[0m\u001b[0m\n\u001b[0;32m---> 22\u001b[0;31m \u001b[0mrate\u001b[0m \u001b[0;34m=\u001b[0m \u001b[0;34m(\u001b[0m\u001b[0mtime\u001b[0m\u001b[0;34m.\u001b[0m\u001b[0mtime\u001b[0m\u001b[0;34m(\u001b[0m\u001b[0;34m)\u001b[0m\u001b[0;34m-\u001b[0m\u001b[0mnow\u001b[0m\u001b[0;34m)\u001b[0m\u001b[0;34m/\u001b[0m\u001b[0mpopsize\u001b[0m\u001b[0;34m\u001b[0m\u001b[0;34m\u001b[0m\u001b[0m\n\u001b[0m\u001b[1;32m     23\u001b[0m \u001b[0mprint\u001b[0m\u001b[0;34m(\u001b[0m\u001b[0;34mf\"Time to process {popsize} files was {(time.time()-now)/60} minutes, {rate} sec/file, added {endingcount-startingcount} new files to S3\"\u001b[0m\u001b[0;34m)\u001b[0m\u001b[0;34m\u001b[0m\u001b[0;34m\u001b[0m\u001b[0m\n\u001b[1;32m     24\u001b[0m \u001b[0mprint\u001b[0m\u001b[0;34m(\u001b[0m\u001b[0;34mf\"There are now {countdb()} files registered.\"\u001b[0m\u001b[0;34m)\u001b[0m\u001b[0;34m\u001b[0m\u001b[0;34m\u001b[0m\u001b[0m\n",
      "\u001b[0;31mZeroDivisionError\u001b[0m: float division by zero"
     ]
    }
   ],
   "source": [
    "#PRODUCTION\n",
    "#import logging\n",
    "myfiles = dbget_filelist()\n",
    "if TEST: myfiles = myfiles[0:10]\n",
    "\n",
    "now=time.time()\n",
    "startingcount = countdb()\n",
    "finalcount = 0\n",
    "popsize=len(myfiles)\n",
    "\n",
    "print(\"Number of CPU cores available: \",multiprocessing.cpu_count())\n",
    "num_threads = multiprocessing.cpu_count()        \n",
    "pool = multiprocessing.Pool(num_threads)\n",
    "return_vals = pool.map(copy_local_to_s3, myfiles)\n",
    "for pair in return_vals:\n",
    "    if pair != None:\n",
    "        updateDB(pair[0], pair[1])\n",
    "        finalcount += 1\n",
    "conn.commit()\n",
    "\n",
    "endingcount = countdb()\n",
    "rate = (time.time()-now)/popsize\n",
    "print(f\"Time to process {popsize} files was {(time.time()-now)/60} minutes, {rate} sec/file, added {endingcount-startingcount} new files to S3\")\n",
    "print(f\"There are now {countdb()} files registered.\")"
   ]
  },
  {
   "cell_type": "code",
   "execution_count": null,
   "id": "1458d699-6b48-41d6-ab70-928373b3ec8d",
   "metadata": {},
   "outputs": [],
   "source": [
    "conn.commit()\n",
    "conn.close()"
   ]
  },
  {
   "cell_type": "code",
   "execution_count": null,
   "id": "a8960599-ba59-44e4-86d6-4814091d275c",
   "metadata": {},
   "outputs": [],
   "source": []
  },
  {
   "cell_type": "code",
   "execution_count": null,
   "id": "0ae49cfc-38fa-4287-8612-c0d61961d707",
   "metadata": {},
   "outputs": [],
   "source": []
  }
 ],
 "metadata": {
  "kernelspec": {
   "display_name": "Python [conda env:panhelio-notebook]",
   "language": "python",
   "name": "conda-env-panhelio-notebook-py"
  },
  "language_info": {
   "codemirror_mode": {
    "name": "ipython",
    "version": 3
   },
   "file_extension": ".py",
   "mimetype": "text/x-python",
   "name": "python",
   "nbconvert_exporter": "python",
   "pygments_lexer": "ipython3",
   "version": "3.9.9"
  }
 },
 "nbformat": 4,
 "nbformat_minor": 5
}
